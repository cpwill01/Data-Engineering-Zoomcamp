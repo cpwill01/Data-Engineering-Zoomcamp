{
 "cells": [
  {
   "cell_type": "code",
   "execution_count": null,
   "id": "7261a929-8b87-4a55-865c-69fe1d7e3a47",
   "metadata": {},
   "outputs": [],
   "source": []
  },
  {
   "cell_type": "code",
   "execution_count": null,
   "id": "2fad9712-ca85-4fd2-8043-4f2a3ce9e80d",
   "metadata": {},
   "outputs": [],
   "source": [
    "import pyspark\n",
    "from pyspark.sql import SparkSession\n",
    "from pyspark.sql import functions as F\n",
    "\n",
    "spark = SparkSession.builder \\\n",
    "    .master(\"local[*]\") \\\n",
    "    .appName('test') \\\n",
    "    .getOrCreate()"
   ]
  },
  {
   "cell_type": "markdown",
   "id": "52bb7771-5c33-42f0-8197-2fc068829c4c",
   "metadata": {},
   "source": [
    "First, we look at how we can combine the green and yellow taxi trips data into 1 table using spark, keeping only the columns that both types of trips have."
   ]
  },
  {
   "cell_type": "markdown",
   "id": "4047f7b0-8d40-4d8f-a778-b1938760addf",
   "metadata": {},
   "source": [
    "Step 1: Read in the data and normalize the column names."
   ]
  },
  {
   "cell_type": "code",
   "execution_count": 2,
   "id": "1faecf66-73d7-46d6-841a-512a3f1aecd9",
   "metadata": {},
   "outputs": [],
   "source": [
    "df_green = spark \\\n",
    "    .read.parquet('data/pq/green/*/*') \\\n",
    "    .withColumnRenamed('lpep_pickup_datetime', 'pickup_datetime') \\\n",
    "    .withColumnRenamed('lpep_dropoff_datetime', 'dropoff_datetime')\n",
    "df_yellow = spark \\\n",
    "    .read.parquet('data/pq/yellow/*/*') \\\n",
    "    .withColumnRenamed('tpep_pickup_datetime', 'pickup_datetime') \\\n",
    "    .withColumnRenamed('tpep_dropoff_datetime', 'dropoff_datetime')"
   ]
  },
  {
   "cell_type": "markdown",
   "id": "d58ba852-cefc-4437-851a-a69851c7d72f",
   "metadata": {},
   "source": [
    "Step 2: Find the column columns which we will keep in the combined table."
   ]
  },
  {
   "cell_type": "code",
   "execution_count": 3,
   "id": "9eb57d67-0e66-4f67-be59-2aa6137c3b60",
   "metadata": {},
   "outputs": [
    {
     "data": {
      "text/plain": [
       "['VendorID',\n",
       " 'pickup_datetime',\n",
       " 'dropoff_datetime',\n",
       " 'store_and_fwd_flag',\n",
       " 'RatecodeID',\n",
       " 'PULocationID',\n",
       " 'DOLocationID',\n",
       " 'passenger_count',\n",
       " 'trip_distance',\n",
       " 'fare_amount',\n",
       " 'extra',\n",
       " 'mta_tax',\n",
       " 'tip_amount',\n",
       " 'tolls_amount',\n",
       " 'improvement_surcharge',\n",
       " 'total_amount',\n",
       " 'payment_type',\n",
       " 'congestion_surcharge']"
      ]
     },
     "execution_count": 3,
     "metadata": {},
     "output_type": "execute_result"
    }
   ],
   "source": [
    "common_columns = []\n",
    "\n",
    "for col in df_green.columns:\n",
    "    if col in set(df_yellow.columns):\n",
    "        common_columns.append(col)\n",
    "common_columns"
   ]
  },
  {
   "cell_type": "markdown",
   "id": "11c9418b-41e4-4487-b9b0-534ceaa0a205",
   "metadata": {},
   "source": [
    "Step 3: Use the select command to select only the common columns, then use the withColumn command to add a new column. Note: Using withColumn with `F.lit('green')` allows us to set the values for every record in the column as `'green'`."
   ]
  },
  {
   "cell_type": "code",
   "execution_count": 15,
   "id": "358a8859-d650-4f9b-9e95-90b168e8281b",
   "metadata": {},
   "outputs": [],
   "source": [
    "df_green_svc = df_green \\\n",
    "    .select(common_columns) \\\n",
    "    .withColumn('service_type', F.lit('green'))\n",
    "\n",
    "df_yellow_svc = df_yellow \\\n",
    "    .select(common_columns) \\\n",
    "    .withColumn('service_type', F.lit('yellow'))\n",
    "\n",
    "df_trips_data = df_green_svc.unionAll(df_yellow_svc)"
   ]
  },
  {
   "cell_type": "code",
   "execution_count": 8,
   "id": "3308ca8b-323a-41a1-928c-13a749d02391",
   "metadata": {},
   "outputs": [
    {
     "name": "stdout",
     "output_type": "stream",
     "text": [
      "+------------+--------+\n",
      "|service_type|   count|\n",
      "+------------+--------+\n",
      "|       green| 1734051|\n",
      "|      yellow|24648499|\n",
      "+------------+--------+\n",
      "\n"
     ]
    }
   ],
   "source": [
    "df_trips_data.groupBy('service_type').count().show()"
   ]
  },
  {
   "cell_type": "markdown",
   "id": "34ad78f7-4efa-41e7-aecf-9b673fd30e1f",
   "metadata": {},
   "source": [
    "Next, we look at how we can use SQL to query this new table. First, we have to create a view in spark."
   ]
  },
  {
   "cell_type": "code",
   "execution_count": 27,
   "id": "2213626c-8de9-49b8-88a5-a35b96497c4e",
   "metadata": {},
   "outputs": [],
   "source": [
    "df_trips_data.createOrReplaceTempView('trips_data')"
   ]
  },
  {
   "cell_type": "code",
   "execution_count": 28,
   "id": "7d63d3b4-5152-4f9b-ad55-b0b58b5ed25e",
   "metadata": {},
   "outputs": [
    {
     "name": "stdout",
     "output_type": "stream",
     "text": [
      "+------------+---------+\n",
      "|service_type|num_trips|\n",
      "+------------+---------+\n",
      "|       green|  1734051|\n",
      "|      yellow| 24648499|\n",
      "+------------+---------+\n",
      "\n"
     ]
    }
   ],
   "source": [
    "spark.sql(\"\"\"\n",
    "SELECT\n",
    "    service_type,\n",
    "    count(1) as num_trips\n",
    "FROM\n",
    "    trips_data\n",
    "GROUP BY\n",
    "    service_type\n",
    "\"\"\").show()"
   ]
  },
  {
   "cell_type": "code",
   "execution_count": 35,
   "id": "8cfd2216-26e4-48c6-bbea-33690ddb17a2",
   "metadata": {},
   "outputs": [],
   "source": [
    "df_revenue = spark.sql(\"\"\"\n",
    "SELECT\n",
    "    -- Revenue grouping \n",
    "    PULocationID AS revenue_location_id,\n",
    "    date_trunc('month', pickup_datetime) AS revenue_month, \n",
    "    service_type, \n",
    "\n",
    "    -- Revenue calculation \n",
    "    SUM(fare_amount) AS revenue_monthly_fare,\n",
    "    SUM(extra) AS revenue_monthly_extra,\n",
    "    SUM(mta_tax) AS revenue_monthly_mta_tax,\n",
    "    SUM(tip_amount) AS revenue_monthly_tip_amount,\n",
    "    SUM(tolls_amount) AS revenue_monthly_tolls_amount,\n",
    "    SUM(improvement_surcharge) AS revenue_monthly_improvement_surcharge,\n",
    "    SUM(total_amount) AS revenue_monthly_total_amount,\n",
    "\n",
    "    -- Additional calculations\n",
    "    COUNT(1) AS num_trips,\n",
    "    AVG(passenger_count) AS avg_monthly_passenger_count,\n",
    "    AVG(trip_distance) AS avg_monthly_trip_distance\n",
    "FROM \n",
    "    trips_data\n",
    "GROUP BY\n",
    "    1,2,3\n",
    "\"\"\")"
   ]
  },
  {
   "cell_type": "code",
   "execution_count": 36,
   "id": "95bfbc71-fe18-4b56-8301-4885b4df9c8c",
   "metadata": {},
   "outputs": [
    {
     "name": "stdout",
     "output_type": "stream",
     "text": [
      "+-------------------+-------------------+------------+--------------------+---------------------+-----------------------+--------------------------+----------------------------+-------------------------------------+----------------------------+---------+---------------------------+-------------------------+\n",
      "|revenue_location_id|      revenue_month|service_type|revenue_monthly_fare|revenue_monthly_extra|revenue_monthly_mta_tax|revenue_monthly_tip_amount|revenue_monthly_tolls_amount|revenue_monthly_improvement_surcharge|revenue_monthly_total_amount|num_trips|avg_monthly_passenger_count|avg_monthly_trip_distance|\n",
      "+-------------------+-------------------+------------+--------------------+---------------------+-----------------------+--------------------------+----------------------------+-------------------------------------+----------------------------+---------+---------------------------+-------------------------+\n",
      "|                173|2020-01-01 00:00:00|       green|            15830.27|                862.0|                  377.0|                    262.91|           384.5300000000002|                    297.3000000000055|           18040.70999999979|     1077|         1.4243589743589744|        3.201485608170845|\n",
      "|                 31|2020-01-01 00:00:00|       green|  2036.7800000000004|                104.5|                   28.5|                    133.47|           68.55999999999999|                   27.900000000000045|          2427.2099999999996|       99|         1.1551724137931034|        5.635959595959594|\n",
      "|                 38|2020-01-01 00:00:00|       green|  12386.740000000013|                698.0|                   67.0|                       0.0|           281.5200000000001|                   116.69999999999925|          13549.959999999981|      428|         1.2823529411764707|         7.61892523364486|\n",
      "|                165|2020-01-01 00:00:00|       green|  24802.129999999976|               1549.0|                  189.5|        101.14999999999999|           495.9500000000004|                   268.80000000000445|           27427.27999999993|     1039|         1.1891891891891893|        4.462666025024065|\n",
      "|                 92|2020-01-01 00:00:00|       green|   67252.83999999984|              2700.75|                 1326.0|        3052.7699999999986|           1289.559999999996|                   1034.9999999999345|           76792.72000000258|     3564|         1.1726539589442815|        4.553793490460165|\n",
      "|                  7|2020-01-01 00:00:00|       green|  169074.51999999958|              7929.25|                 7443.5|        12952.749999999944|          1746.7599999999884|                    4730.700000001408|          207287.27999996912|    15995|         1.4415973377703828|       2.2922463269771827|\n",
      "|                 40|2020-01-01 00:00:00|       green|   21433.21000000001|               880.75|                  778.5|         2839.890000000003|          329.47000000000014|                   491.10000000001287|          27650.519999999644|     1667|         1.2895077720207253|       2.9378884223155275|\n",
      "|                237|2020-01-01 00:00:00|       green|  3895.6099999999997|                248.5|                    7.5|                       0.0|          176.44000000000005|                   31.500000000000053|                     4359.55|      107|                        1.0|       10.208504672897197|\n",
      "|                114|2020-01-01 00:00:00|       green|  492.40999999999997|                 38.5|                    1.5|                       0.0|                       18.36|                    5.699999999999998|                      556.47|       19|                       null|        6.400526315789474|\n",
      "|                230|2020-01-01 00:00:00|       green|  1797.4100000000008|                121.0|                    3.0|                       0.0|           97.92000000000002|                   16.200000000000017|          2035.5300000000002|       56|                        1.0|        7.692142857142856|\n",
      "|                264|2020-01-01 00:00:00|       green|   6761.039999999997|               109.05|                  100.0|        443.22000000000014|                         0.0|                   118.19999999999924|           7533.460000000028|      526|          1.105263157894737|         0.52328897338403|\n",
      "|                 30|2020-01-01 00:00:00|       green|              150.32|                 8.25|                    0.5|                       0.0|                       12.99|                                  1.2|                      173.26|        4|                        1.0|        7.665000000000001|\n",
      "|                106|2020-01-01 00:00:00|       green|  14230.119999999997|               900.75|                  213.0|         588.1799999999996|          219.53000000000006|                    206.1000000000021|           16527.82999999997|      738|         1.3022598870056497|       4.0419376693766935|\n",
      "|                 54|2020-01-01 00:00:00|       green|  3062.1600000000003|               121.75|                   58.0|         321.7899999999999|          48.959999999999994|                    40.49999999999997|          3848.4100000000017|      157|         1.2358490566037736|        4.905923566878981|\n",
      "|                108|2020-01-01 00:00:00|       green|  17651.770000000022|               1152.0|                  158.5|                     23.01|          288.78000000000014|                   179.10000000000107|           19453.15999999997|      704|         1.0443037974683544|        6.634133522727269|\n",
      "|                 78|2020-01-01 00:00:00|       green|   22993.09000000004|              1469.75|                  228.0|                     89.15|          1094.7599999999998|                    277.5000000000048|           26208.19999999984|     1020|         1.2206703910614525|        4.875901960784315|\n",
      "|                 25|2020-01-01 00:00:00|       green|  119852.57999999892|               6304.5|                 3428.5|         8952.989999999983|           851.8100000000003|                    2377.799999999981|          143392.23000000342|     8191|         1.2347905839192908|         3.15823953119276|\n",
      "|                 95|2010-09-01 00:00:00|       green|                31.0|                  1.0|                    1.5|                      4.16|                         0.0|                   0.8999999999999999|                       38.56|        3|                        1.0|       2.8466666666666662|\n",
      "|                260|2020-01-01 00:00:00|       green|   88654.28999999985|              3677.25|                 3632.5|         7702.619999999997|           801.2600000000004|                    2285.399999999925|          107465.02000000943|     7708|         1.5757410932825673|        2.583962117280752|\n",
      "|                 26|2020-01-01 00:00:00|       green|  27098.790000000095|              1743.25|                  221.5|                    121.73|           551.2800000000003|                   292.50000000000534|          30034.899999999885|     1102|         1.1054852320675106|        4.771315789473683|\n",
      "+-------------------+-------------------+------------+--------------------+---------------------+-----------------------+--------------------------+----------------------------+-------------------------------------+----------------------------+---------+---------------------------+-------------------------+\n",
      "only showing top 20 rows\n",
      "\n"
     ]
    }
   ],
   "source": [
    "df_revenue.show()"
   ]
  },
  {
   "cell_type": "code",
   "execution_count": 38,
   "id": "0f6e02ea-fadd-46b8-8877-d7bfb404a9a4",
   "metadata": {},
   "outputs": [],
   "source": [
    "df_revenue.coalesce(1).write.parquet('data/report/revenue/')"
   ]
  },
  {
   "cell_type": "code",
   "execution_count": 7,
   "id": "29ec01a3-f251-4367-b71b-02d234a27b57",
   "metadata": {},
   "outputs": [],
   "source": [
    "spark.stop()"
   ]
  },
  {
   "cell_type": "code",
   "execution_count": null,
   "id": "be227444-d86e-4e44-bb86-0e6aa633e044",
   "metadata": {},
   "outputs": [],
   "source": []
  }
 ],
 "metadata": {
  "kernelspec": {
   "display_name": "Python 3 (ipykernel)",
   "language": "python",
   "name": "python3"
  },
  "language_info": {
   "codemirror_mode": {
    "name": "ipython",
    "version": 3
   },
   "file_extension": ".py",
   "mimetype": "text/x-python",
   "name": "python",
   "nbconvert_exporter": "python",
   "pygments_lexer": "ipython3",
   "version": "3.10.16"
  }
 },
 "nbformat": 4,
 "nbformat_minor": 5
}
