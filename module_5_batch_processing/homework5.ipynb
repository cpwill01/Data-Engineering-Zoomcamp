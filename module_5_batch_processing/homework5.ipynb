{
 "cells": [
  {
   "cell_type": "markdown",
   "id": "59d95156-09ff-43ee-93b6-5a9937cfbbdf",
   "metadata": {},
   "source": [
    "In this homework we'll put what we learned about Spark in practice.\n",
    "\n",
    "For this homework we will be using the Yellow 2024-10 data from the official website:\n",
    "```\n",
    "    wget https://d37ci6vzurychx.cloudfront.net/trip-data/yellow_tripdata_2024-10.parquet\n",
    "```\n",
    "Note: I put this file in the `'data/raw/yellow/2024/10'` folder"
   ]
  },
  {
   "cell_type": "code",
   "execution_count": 1,
   "id": "ddbfe685-bb71-45e3-a443-eadd38e4d101",
   "metadata": {},
   "outputs": [],
   "source": [
    "import pyspark\n",
    "from pyspark.sql import SparkSession\n",
    "from pyspark.sql import functions as F\n",
    "\n",
    "spark = SparkSession.builder \\\n",
    "    .master(\"local[*]\") \\\n",
    "    .appName('test') \\\n",
    "    .getOrCreate()"
   ]
  },
  {
   "cell_type": "markdown",
   "id": "146a6089-6d77-48f6-a7fe-0a2f4e2adf8a",
   "metadata": {},
   "source": [
    "## Question 1: Check version after installing Spark and PySpark"
   ]
  },
  {
   "cell_type": "code",
   "execution_count": 2,
   "id": "a78849bc-b0ab-46eb-9799-c6c6d8c6abe0",
   "metadata": {},
   "outputs": [
    {
     "data": {
      "text/plain": [
       "'3.3.2'"
      ]
     },
     "execution_count": 2,
     "metadata": {},
     "output_type": "execute_result"
    }
   ],
   "source": [
    "spark.version"
   ]
  },
  {
   "cell_type": "markdown",
   "id": "18ff4da5-3c4c-40b6-976b-869ba5643ac6",
   "metadata": {},
   "source": [
    "## Question 2: Yellow October 2024\n",
    "\n",
    "Read the October 2024 Yellow into a Spark Dataframe.\n",
    "\n",
    "Repartition the Dataframe to 4 partitions and save it to parquet.\n",
    "\n",
    "What is the average size of the Parquet (ending with .parquet extension) Files that were created (in MB)? Select the answer which most closely matches."
   ]
  },
  {
   "cell_type": "code",
   "execution_count": 79,
   "id": "b234bab0-aa63-44f0-9813-0faed5c00b0c",
   "metadata": {},
   "outputs": [],
   "source": [
    "# read the file into a spark dataframe\n",
    "df = spark.read.parquet('data/raw/yellow/2024/10')"
   ]
  },
  {
   "cell_type": "code",
   "execution_count": 6,
   "id": "0ba79b2e-e69b-49e3-82d1-8cd178568dd1",
   "metadata": {},
   "outputs": [],
   "source": [
    "# repartition into 4 partitions and save\n",
    "df.repartition(4).write.parquet('data/pq/yellow/2024/10')"
   ]
  },
  {
   "cell_type": "code",
   "execution_count": 20,
   "id": "61b004e1-2f5b-47c5-9038-b630f38f9378",
   "metadata": {},
   "outputs": [
    {
     "name": "stdout",
     "output_type": "stream",
     "text": [
      "Average: 25406383.75 bytes\n"
     ]
    }
   ],
   "source": [
    "# get average filesize\n",
    "import os\n",
    "import glob\n",
    "total = 0\n",
    "for file_path in glob.glob(os.path.join('data/pq/yellow/2024/10', '*.parquet')):\n",
    "    total += os.stat(file_path).st_size\n",
    "print(f\"Average: {(total/4)} bytes\") "
   ]
  },
  {
   "cell_type": "markdown",
   "id": "8ec4f0a2-adde-4a90-bc88-58c0e043080e",
   "metadata": {},
   "source": [
    "which is about 25 MB."
   ]
  },
  {
   "cell_type": "markdown",
   "id": "4b801fd8-538c-41d5-a172-ce12fcab1122",
   "metadata": {},
   "source": [
    "## Question 3: Count records\n",
    "\n",
    "How many taxi trips were there on the 15th of October?\n",
    "\n",
    "Consider only trips that started on the 15th of October."
   ]
  },
  {
   "cell_type": "code",
   "execution_count": 71,
   "id": "2789f374-30cb-4ed1-bab4-bc126b8ec277",
   "metadata": {},
   "outputs": [
    {
     "name": "stdout",
     "output_type": "stream",
     "text": [
      "root\n",
      " |-- VendorID: integer (nullable = true)\n",
      " |-- tpep_pickup_datetime: timestamp (nullable = true)\n",
      " |-- tpep_dropoff_datetime: timestamp (nullable = true)\n",
      " |-- passenger_count: long (nullable = true)\n",
      " |-- trip_distance: double (nullable = true)\n",
      " |-- RatecodeID: long (nullable = true)\n",
      " |-- store_and_fwd_flag: string (nullable = true)\n",
      " |-- PULocationID: integer (nullable = true)\n",
      " |-- DOLocationID: integer (nullable = true)\n",
      " |-- payment_type: long (nullable = true)\n",
      " |-- fare_amount: double (nullable = true)\n",
      " |-- extra: double (nullable = true)\n",
      " |-- mta_tax: double (nullable = true)\n",
      " |-- tip_amount: double (nullable = true)\n",
      " |-- tolls_amount: double (nullable = true)\n",
      " |-- improvement_surcharge: double (nullable = true)\n",
      " |-- total_amount: double (nullable = true)\n",
      " |-- congestion_surcharge: double (nullable = true)\n",
      " |-- Airport_fee: double (nullable = true)\n",
      "\n"
     ]
    }
   ],
   "source": [
    "df.printSchema()"
   ]
  },
  {
   "cell_type": "code",
   "execution_count": 76,
   "id": "6c315ab9-cf00-45e8-bb1f-fe4aded9c1b0",
   "metadata": {},
   "outputs": [
    {
     "data": {
      "text/plain": [
       "116396"
      ]
     },
     "execution_count": 76,
     "metadata": {},
     "output_type": "execute_result"
    }
   ],
   "source": [
    "df.filter(F.date_trunc('day', df.tpep_pickup_datetime) == '2024-10-15') \\\n",
    "    .count()"
   ]
  },
  {
   "cell_type": "markdown",
   "id": "5b983037-0e8f-4408-85fe-2196aa19d42d",
   "metadata": {},
   "source": [
    "## Question 4: Longest trip\n",
    "\n",
    "What is the length of the longest trip in the dataset in hours?"
   ]
  },
  {
   "cell_type": "code",
   "execution_count": 48,
   "id": "e308ff09-bf28-43c2-ac7d-3c15aa35e7fb",
   "metadata": {},
   "outputs": [],
   "source": [
    "result = df.withColumn('trip_duration', df.tpep_dropoff_datetime - df.tpep_pickup_datetime) \\\n",
    "    .sort('trip_duration', ascending=False) \\\n",
    "    .select('trip_duration') \\\n",
    "    .take(1)"
   ]
  },
  {
   "cell_type": "code",
   "execution_count": 57,
   "id": "6effe833-fdbf-4e13-ae09-0292cfc00982",
   "metadata": {},
   "outputs": [
    {
     "name": "stdout",
     "output_type": "stream",
     "text": [
      "Num hours for longest trip: 162.62\n"
     ]
    }
   ],
   "source": [
    "print(f\"Num hours for longest trip: {(result[0].trip_duration.total_seconds() / 3600):.2f}\")"
   ]
  },
  {
   "cell_type": "markdown",
   "id": "bdfbf9b5-9785-4a0d-8e08-aa6f2941950d",
   "metadata": {},
   "source": [
    "## Question 5: User Interface\n",
    "\n",
    "Spark’s User Interface which shows the application's dashboard runs on which local port?"
   ]
  },
  {
   "cell_type": "code",
   "execution_count": 70,
   "id": "fa537041-a097-423d-b3cf-a5ad8b8d4379",
   "metadata": {},
   "outputs": [
    {
     "name": "stdout",
     "output_type": "stream",
     "text": [
      "Port Number:  4040\n"
     ]
    }
   ],
   "source": [
    "ui_url = spark.sparkContext.uiWebUrl\n",
    "print(\"Port Number: \", ui_url.split(':')[-1])"
   ]
  },
  {
   "cell_type": "markdown",
   "id": "9260ac07-e7a0-42fd-ad53-160fd6a45fa7",
   "metadata": {},
   "source": [
    "## Question 6: Least frequent pickup location zone\n",
    "\n",
    "Load the zone lookup data into a temp view in Spark:\n",
    "```\n",
    "wget https://d37ci6vzurychx.cloudfront.net/misc/taxi_zone_lookup.csv\n",
    "```\n",
    "Using the zone lookup data and the Yellow October 2024 data, what is the name of the LEAST frequent pickup location Zone?"
   ]
  },
  {
   "cell_type": "code",
   "execution_count": 78,
   "id": "1107aab2-6c58-41a9-a4dc-461c70609f73",
   "metadata": {},
   "outputs": [],
   "source": [
    "# Load zone lookup into temp view\n",
    "df_zones = spark.read \\\n",
    "    .option(\"header\", \"true\") \\\n",
    "    .csv('data/raw/taxi_zone_lookup.csv')\n",
    "df_zones.createOrReplaceTempView('zones')"
   ]
  },
  {
   "cell_type": "code",
   "execution_count": 81,
   "id": "bbe80bef-7918-4c07-b775-f61ce033ae07",
   "metadata": {},
   "outputs": [
    {
     "data": {
      "text/plain": [
       "['LocationID', 'Borough', 'Zone', 'service_zone']"
      ]
     },
     "execution_count": 81,
     "metadata": {},
     "output_type": "execute_result"
    }
   ],
   "source": [
    "df_zones.columns"
   ]
  },
  {
   "cell_type": "code",
   "execution_count": 80,
   "id": "fb6739b5-e76f-4cd7-ade1-f5bf4187ca22",
   "metadata": {},
   "outputs": [],
   "source": [
    "# Create temp view from yellow trip data\n",
    "df.createOrReplaceTempView('yellow_trips')"
   ]
  },
  {
   "cell_type": "code",
   "execution_count": 98,
   "id": "b0fc76df-3312-4431-b9a4-b18e519e0e5f",
   "metadata": {},
   "outputs": [],
   "source": [
    "# Write query to find least frequent pickup zone\n",
    "df_result = spark.sql(\"\"\"\n",
    "SELECT\n",
    "    z.Zone,\n",
    "    count(*) as num_trips\n",
    "FROM \n",
    "    yellow_trips y\n",
    "    INNER JOIN zones z\n",
    "    ON y.PULocationID = z.LocationID\n",
    "GROUP BY\n",
    "    z.Zone\n",
    "ORDER BY\n",
    "    num_trips ASC\n",
    "LIMIT \n",
    "    1\n",
    "\"\"\")"
   ]
  },
  {
   "cell_type": "code",
   "execution_count": 99,
   "id": "e338490b-7098-4f27-b0e0-3988dbf81640",
   "metadata": {},
   "outputs": [
    {
     "data": {
      "text/plain": [
       "[Row(Zone=\"Governor's Island/Ellis Island/Liberty Island\", num_trips=1)]"
      ]
     },
     "execution_count": 99,
     "metadata": {},
     "output_type": "execute_result"
    }
   ],
   "source": [
    "df_result.take(1)"
   ]
  }
 ],
 "metadata": {
  "kernelspec": {
   "display_name": "Python 3 (ipykernel)",
   "language": "python",
   "name": "python3"
  },
  "language_info": {
   "codemirror_mode": {
    "name": "ipython",
    "version": 3
   },
   "file_extension": ".py",
   "mimetype": "text/x-python",
   "name": "python",
   "nbconvert_exporter": "python",
   "pygments_lexer": "ipython3",
   "version": "3.10.16"
  }
 },
 "nbformat": 4,
 "nbformat_minor": 5
}
