{
 "cells": [
  {
   "cell_type": "code",
   "execution_count": 1,
   "id": "2fad9712-ca85-4fd2-8043-4f2a3ce9e80d",
   "metadata": {},
   "outputs": [],
   "source": [
    "import pyspark"
   ]
  },
  {
   "cell_type": "code",
   "execution_count": 3,
   "id": "e37ed21c-1d50-4158-895f-9aa332ab35a7",
   "metadata": {},
   "outputs": [],
   "source": [
    "from pyspark.sql import SparkSession"
   ]
  },
  {
   "cell_type": "markdown",
   "id": "6d655a4c-1ac5-405e-ba25-3fb45dd508e7",
   "metadata": {},
   "source": [
    "To use pySpark, we need to start a SparkSession as follows:"
   ]
  },
  {
   "cell_type": "code",
   "execution_count": 4,
   "id": "7cb06a7f-6ca3-4e98-986a-86e678349cf7",
   "metadata": {},
   "outputs": [],
   "source": [
    "spark = SparkSession.builder \\\n",
    "    .master(\"local[*]\") \\\n",
    "    .appName('test') \\\n",
    "    .getOrCreate()"
   ]
  },
  {
   "cell_type": "markdown",
   "id": "52bb7771-5c33-42f0-8197-2fc068829c4c",
   "metadata": {},
   "source": [
    "We will load in the Taxi Zone Lookup file as an example. We can use commands such as `df.show()`, `df.head(n)`, `df.tail(n)` to preview a few rows of the data. "
   ]
  },
  {
   "cell_type": "code",
   "execution_count": 56,
   "id": "1faecf66-73d7-46d6-841a-512a3f1aecd9",
   "metadata": {},
   "outputs": [],
   "source": [
    "df = spark.read \\\n",
    "    .option(\"header\", \"true\") \\\n",
    "    .csv('../module_1_docker_terraform/taxi_zone_lookup.csv')"
   ]
  },
  {
   "cell_type": "code",
   "execution_count": 57,
   "id": "ae8ee9d6-4587-4657-a515-a1244ee780f6",
   "metadata": {},
   "outputs": [
    {
     "name": "stdout",
     "output_type": "stream",
     "text": [
      "+----------+-------------+--------------------+------------+\n",
      "|LocationID|      Borough|                Zone|service_zone|\n",
      "+----------+-------------+--------------------+------------+\n",
      "|         1|          EWR|      Newark Airport|         EWR|\n",
      "|         2|       Queens|         Jamaica Bay|   Boro Zone|\n",
      "|         3|        Bronx|Allerton/Pelham G...|   Boro Zone|\n",
      "|         4|    Manhattan|       Alphabet City| Yellow Zone|\n",
      "|         5|Staten Island|       Arden Heights|   Boro Zone|\n",
      "|         6|Staten Island|Arrochar/Fort Wad...|   Boro Zone|\n",
      "|         7|       Queens|             Astoria|   Boro Zone|\n",
      "|         8|       Queens|        Astoria Park|   Boro Zone|\n",
      "|         9|       Queens|          Auburndale|   Boro Zone|\n",
      "|        10|       Queens|        Baisley Park|   Boro Zone|\n",
      "|        11|     Brooklyn|          Bath Beach|   Boro Zone|\n",
      "|        12|    Manhattan|        Battery Park| Yellow Zone|\n",
      "|        13|    Manhattan|   Battery Park City| Yellow Zone|\n",
      "|        14|     Brooklyn|           Bay Ridge|   Boro Zone|\n",
      "|        15|       Queens|Bay Terrace/Fort ...|   Boro Zone|\n",
      "|        16|       Queens|             Bayside|   Boro Zone|\n",
      "|        17|     Brooklyn|             Bedford|   Boro Zone|\n",
      "|        18|        Bronx|        Bedford Park|   Boro Zone|\n",
      "|        19|       Queens|           Bellerose|   Boro Zone|\n",
      "|        20|        Bronx|             Belmont|   Boro Zone|\n",
      "+----------+-------------+--------------------+------------+\n",
      "only showing top 20 rows\n",
      "\n"
     ]
    }
   ],
   "source": [
    "df.show()"
   ]
  },
  {
   "cell_type": "code",
   "execution_count": 58,
   "id": "c79185f7-b383-4f49-be0e-e0371b92f5d2",
   "metadata": {},
   "outputs": [
    {
     "data": {
      "text/plain": [
       "[Row(LocationID='261', Borough='Manhattan', Zone='World Trade Center', service_zone='Yellow Zone'),\n",
       " Row(LocationID='262', Borough='Manhattan', Zone='Yorkville East', service_zone='Yellow Zone'),\n",
       " Row(LocationID='263', Borough='Manhattan', Zone='Yorkville West', service_zone='Yellow Zone'),\n",
       " Row(LocationID='264', Borough='Unknown', Zone='N/A', service_zone='N/A'),\n",
       " Row(LocationID='265', Borough='N/A', Zone='Outside of NYC', service_zone='N/A')]"
      ]
     },
     "execution_count": 58,
     "metadata": {},
     "output_type": "execute_result"
    }
   ],
   "source": [
    "df.tail(5)"
   ]
  },
  {
   "cell_type": "code",
   "execution_count": 63,
   "id": "358a8859-d650-4f9b-9e95-90b168e8281b",
   "metadata": {},
   "outputs": [
    {
     "data": {
      "text/plain": [
       "StructType([StructField('LocationID', StringType(), True), StructField('Borough', StringType(), True), StructField('Zone', StringType(), True), StructField('service_zone', StringType(), True)])"
      ]
     },
     "execution_count": 63,
     "metadata": {},
     "output_type": "execute_result"
    }
   ],
   "source": [
    "df.schema"
   ]
  },
  {
   "cell_type": "markdown",
   "id": "34820a44-3899-4aab-a070-eeef0f55133e",
   "metadata": {},
   "source": [
    "Checking the schema, we can see that all columns have been read in as Strings by default. To prevent this (e.g. for LocationID), we can specify a schema"
   ]
  },
  {
   "cell_type": "code",
   "execution_count": 64,
   "id": "1ff0b1ad-37c8-4492-88fd-1f7a1846439c",
   "metadata": {},
   "outputs": [],
   "source": [
    "from pyspark.sql import types\n",
    "schema = types.StructType([\n",
    "\ttypes.StructField('LocationID', types.IntegerType(), True),\n",
    "\ttypes.StructField('Borough', types.StringType(), True),\n",
    "\ttypes.StructField('Zone', types.StringType(), True), \n",
    "\ttypes.StructField('service_zone', types.StringType(), True)\n",
    "\t])\n",
    "\n",
    "df = spark.read \\\n",
    "    .option(\"header\", \"true\") \\\n",
    "    .schema(schema) \\\n",
    "    .csv('./taxi_zone_lookup.csv')"
   ]
  },
  {
   "cell_type": "code",
   "execution_count": 65,
   "id": "b634381b-5eb4-4e38-868d-3541af6d3796",
   "metadata": {},
   "outputs": [
    {
     "data": {
      "text/plain": [
       "StructType([StructField('LocationID', IntegerType(), True), StructField('Borough', StringType(), True), StructField('Zone', StringType(), True), StructField('service_zone', StringType(), True)])"
      ]
     },
     "execution_count": 65,
     "metadata": {},
     "output_type": "execute_result"
    }
   ],
   "source": [
    "df.schema"
   ]
  },
  {
   "cell_type": "markdown",
   "id": "8128518b-9ce7-40da-adf4-c426eadaf0ce",
   "metadata": {},
   "source": [
    "Next, we look at a simple query to demonstrate lazy executions in Spark."
   ]
  },
  {
   "cell_type": "markdown",
   "id": "8871038e-cd78-4363-add5-15a431d321b0",
   "metadata": {},
   "source": [
    "Spark executes **transformations** lazily, meaning a sequence of transformations is maintained but not executed immediately. They are only executed when an **action** is performed. Hence, we call actions **eager**."
   ]
  },
  {
   "cell_type": "markdown",
   "id": "bcd18eff-8946-43a0-af6f-ca5c20a3e278",
   "metadata": {},
   "source": [
    "e.g. `select` and `filter` are lazy"
   ]
  },
  {
   "cell_type": "code",
   "execution_count": 52,
   "id": "e723fabf-4a42-4cb0-baaa-01f93d48eb88",
   "metadata": {},
   "outputs": [
    {
     "data": {
      "text/plain": [
       "DataFrame[LocationId: int, Borough: string, Zone: string, service_zone: string]"
      ]
     },
     "execution_count": 52,
     "metadata": {},
     "output_type": "execute_result"
    }
   ],
   "source": [
    "df.select('LocationId', 'Borough', 'Zone', 'service_zone') \\\n",
    "    .filter(df.Borough == 'Manhattan')"
   ]
  },
  {
   "cell_type": "markdown",
   "id": "504f66c8-ecec-4481-b09a-ef84f2f1f8d9",
   "metadata": {},
   "source": [
    "whereas `show` is eager"
   ]
  },
  {
   "cell_type": "code",
   "execution_count": 53,
   "id": "3ae19a6b-92b6-4778-a60f-64aca3923ef1",
   "metadata": {},
   "outputs": [
    {
     "name": "stdout",
     "output_type": "stream",
     "text": [
      "+----------+---------+--------------------+------------+\n",
      "|LocationId|  Borough|                Zone|service_zone|\n",
      "+----------+---------+--------------------+------------+\n",
      "|         4|Manhattan|       Alphabet City| Yellow Zone|\n",
      "|        12|Manhattan|        Battery Park| Yellow Zone|\n",
      "|        13|Manhattan|   Battery Park City| Yellow Zone|\n",
      "|        24|Manhattan|        Bloomingdale| Yellow Zone|\n",
      "|        41|Manhattan|      Central Harlem|   Boro Zone|\n",
      "|        42|Manhattan|Central Harlem North|   Boro Zone|\n",
      "|        43|Manhattan|        Central Park| Yellow Zone|\n",
      "|        45|Manhattan|           Chinatown| Yellow Zone|\n",
      "|        48|Manhattan|        Clinton East| Yellow Zone|\n",
      "|        50|Manhattan|        Clinton West| Yellow Zone|\n",
      "|        68|Manhattan|        East Chelsea| Yellow Zone|\n",
      "|        74|Manhattan|   East Harlem North|   Boro Zone|\n",
      "|        75|Manhattan|   East Harlem South|   Boro Zone|\n",
      "|        79|Manhattan|        East Village| Yellow Zone|\n",
      "|        87|Manhattan|Financial Distric...| Yellow Zone|\n",
      "|        88|Manhattan|Financial Distric...| Yellow Zone|\n",
      "|        90|Manhattan|            Flatiron| Yellow Zone|\n",
      "|       100|Manhattan|    Garment District| Yellow Zone|\n",
      "|       103|Manhattan|Governor's Island...| Yellow Zone|\n",
      "|       104|Manhattan|Governor's Island...| Yellow Zone|\n",
      "+----------+---------+--------------------+------------+\n",
      "only showing top 20 rows\n",
      "\n"
     ]
    }
   ],
   "source": [
    "df.select('LocationId', 'Borough', 'Zone', 'service_zone') \\\n",
    "    .filter(df.Borough == 'Manhattan') \\\n",
    "    .show()"
   ]
  },
  {
   "cell_type": "code",
   "execution_count": 7,
   "id": "29ec01a3-f251-4367-b71b-02d234a27b57",
   "metadata": {},
   "outputs": [],
   "source": [
    "spark.stop()"
   ]
  },
  {
   "cell_type": "code",
   "execution_count": null,
   "id": "be227444-d86e-4e44-bb86-0e6aa633e044",
   "metadata": {},
   "outputs": [],
   "source": []
  }
 ],
 "metadata": {
  "kernelspec": {
   "display_name": "Python 3 (ipykernel)",
   "language": "python",
   "name": "python3"
  },
  "language_info": {
   "codemirror_mode": {
    "name": "ipython",
    "version": 3
   },
   "file_extension": ".py",
   "mimetype": "text/x-python",
   "name": "python",
   "nbconvert_exporter": "python",
   "pygments_lexer": "ipython3",
   "version": "3.10.16"
  }
 },
 "nbformat": 4,
 "nbformat_minor": 5
}
